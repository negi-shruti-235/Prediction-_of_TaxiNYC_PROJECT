{
 "cells": [
  {
   "cell_type": "markdown",
   "id": "45e722cf",
   "metadata": {},
   "source": [
    "# Linear Regression Model with Regularization"
   ]
  },
  {
   "cell_type": "code",
   "execution_count": 2,
   "id": "51daf83d",
   "metadata": {},
   "outputs": [],
   "source": [
    "import pandas as pd\n",
    "import numpy as np\n",
    "import matplotlib.pyplot as plt\n",
    "import datetime as dt\n",
    "from sklearn.model_selection import train_test_split as tts\n",
    "from sklearn.linear_model import LinearRegression as LR\n",
    "from sklearn.metrics import mean_absolute_error as mae\n",
    "from sklearn.metrics import r2_score as r2"
   ]
  },
  {
   "cell_type": "code",
   "execution_count": 3,
   "id": "d9f0fc03",
   "metadata": {},
   "outputs": [
    {
     "data": {
      "text/plain": [
       "id                     object\n",
       "vendor_id               int64\n",
       "pickup_datetime        object\n",
       "dropoff_datetime       object\n",
       "passenger_count         int64\n",
       "pickup_longitude      float64\n",
       "pickup_latitude       float64\n",
       "dropoff_longitude     float64\n",
       "dropoff_latitude      float64\n",
       "store_and_fwd_flag     object\n",
       "trip_duration           int64\n",
       "dtype: object"
      ]
     },
     "execution_count": 3,
     "metadata": {},
     "output_type": "execute_result"
    }
   ],
   "source": [
    "#loading data\n",
    "data=pd.read_csv('C:\\\\NYC_trip.csv')\n",
    "data.dtypes"
   ]
  },
  {
   "cell_type": "code",
   "execution_count": 4,
   "id": "a0f16e01",
   "metadata": {},
   "outputs": [
    {
     "data": {
      "text/plain": [
       "id                            object\n",
       "vendor_id                      int64\n",
       "pickup_datetime       datetime64[ns]\n",
       "dropoff_datetime      datetime64[ns]\n",
       "passenger_count                int64\n",
       "pickup_longitude             float64\n",
       "pickup_latitude              float64\n",
       "dropoff_longitude            float64\n",
       "dropoff_latitude             float64\n",
       "store_and_fwd_flag            object\n",
       "trip_duration                  int64\n",
       "dtype: object"
      ]
     },
     "execution_count": 4,
     "metadata": {},
     "output_type": "execute_result"
    }
   ],
   "source": [
    "data.pickup_datetime=pd.to_datetime(data.pickup_datetime)\n",
    "data.dropoff_datetime=pd.to_datetime(data.dropoff_datetime)\n",
    "data.dtypes"
   ]
  },
  {
   "cell_type": "code",
   "execution_count": 5,
   "id": "ca61042e",
   "metadata": {},
   "outputs": [
    {
     "data": {
      "text/html": [
       "<div>\n",
       "<style scoped>\n",
       "    .dataframe tbody tr th:only-of-type {\n",
       "        vertical-align: middle;\n",
       "    }\n",
       "\n",
       "    .dataframe tbody tr th {\n",
       "        vertical-align: top;\n",
       "    }\n",
       "\n",
       "    .dataframe thead th {\n",
       "        text-align: right;\n",
       "    }\n",
       "</style>\n",
       "<table border=\"1\" class=\"dataframe\">\n",
       "  <thead>\n",
       "    <tr style=\"text-align: right;\">\n",
       "      <th></th>\n",
       "      <th>id</th>\n",
       "      <th>vendor_id</th>\n",
       "      <th>pickup_datetime</th>\n",
       "      <th>dropoff_datetime</th>\n",
       "      <th>passenger_count</th>\n",
       "      <th>pickup_longitude</th>\n",
       "      <th>pickup_latitude</th>\n",
       "      <th>dropoff_longitude</th>\n",
       "      <th>dropoff_latitude</th>\n",
       "      <th>store_and_fwd_flag</th>\n",
       "      <th>trip_duration</th>\n",
       "      <th>Pickup_day</th>\n",
       "      <th>Dropoff_day</th>\n",
       "      <th>Pickup_hour</th>\n",
       "      <th>Dropoff_hour</th>\n",
       "    </tr>\n",
       "  </thead>\n",
       "  <tbody>\n",
       "    <tr>\n",
       "      <th>0</th>\n",
       "      <td>id1080784</td>\n",
       "      <td>2</td>\n",
       "      <td>2016-02-29 16:40:21</td>\n",
       "      <td>2016-02-29 16:47:01</td>\n",
       "      <td>1</td>\n",
       "      <td>-73.953918</td>\n",
       "      <td>40.778873</td>\n",
       "      <td>-73.963875</td>\n",
       "      <td>40.771164</td>\n",
       "      <td>N</td>\n",
       "      <td>400</td>\n",
       "      <td>0</td>\n",
       "      <td>0</td>\n",
       "      <td>16</td>\n",
       "      <td>16</td>\n",
       "    </tr>\n",
       "    <tr>\n",
       "      <th>1</th>\n",
       "      <td>id0889885</td>\n",
       "      <td>1</td>\n",
       "      <td>2016-03-11 23:35:37</td>\n",
       "      <td>2016-03-11 23:53:57</td>\n",
       "      <td>2</td>\n",
       "      <td>-73.988312</td>\n",
       "      <td>40.731743</td>\n",
       "      <td>-73.994751</td>\n",
       "      <td>40.694931</td>\n",
       "      <td>N</td>\n",
       "      <td>1100</td>\n",
       "      <td>4</td>\n",
       "      <td>4</td>\n",
       "      <td>23</td>\n",
       "      <td>23</td>\n",
       "    </tr>\n",
       "    <tr>\n",
       "      <th>2</th>\n",
       "      <td>id0857912</td>\n",
       "      <td>2</td>\n",
       "      <td>2016-02-21 17:59:33</td>\n",
       "      <td>2016-02-21 18:26:48</td>\n",
       "      <td>2</td>\n",
       "      <td>-73.997314</td>\n",
       "      <td>40.721458</td>\n",
       "      <td>-73.948029</td>\n",
       "      <td>40.774918</td>\n",
       "      <td>N</td>\n",
       "      <td>1635</td>\n",
       "      <td>6</td>\n",
       "      <td>6</td>\n",
       "      <td>17</td>\n",
       "      <td>18</td>\n",
       "    </tr>\n",
       "    <tr>\n",
       "      <th>3</th>\n",
       "      <td>id3744273</td>\n",
       "      <td>2</td>\n",
       "      <td>2016-01-05 09:44:31</td>\n",
       "      <td>2016-01-05 10:03:32</td>\n",
       "      <td>6</td>\n",
       "      <td>-73.961670</td>\n",
       "      <td>40.759720</td>\n",
       "      <td>-73.956779</td>\n",
       "      <td>40.780628</td>\n",
       "      <td>N</td>\n",
       "      <td>1141</td>\n",
       "      <td>1</td>\n",
       "      <td>1</td>\n",
       "      <td>9</td>\n",
       "      <td>10</td>\n",
       "    </tr>\n",
       "    <tr>\n",
       "      <th>4</th>\n",
       "      <td>id0232939</td>\n",
       "      <td>1</td>\n",
       "      <td>2016-02-17 06:42:23</td>\n",
       "      <td>2016-02-17 06:56:31</td>\n",
       "      <td>1</td>\n",
       "      <td>-74.017120</td>\n",
       "      <td>40.708469</td>\n",
       "      <td>-73.988182</td>\n",
       "      <td>40.740631</td>\n",
       "      <td>N</td>\n",
       "      <td>848</td>\n",
       "      <td>2</td>\n",
       "      <td>2</td>\n",
       "      <td>6</td>\n",
       "      <td>6</td>\n",
       "    </tr>\n",
       "  </tbody>\n",
       "</table>\n",
       "</div>"
      ],
      "text/plain": [
       "          id  vendor_id     pickup_datetime    dropoff_datetime  \\\n",
       "0  id1080784          2 2016-02-29 16:40:21 2016-02-29 16:47:01   \n",
       "1  id0889885          1 2016-03-11 23:35:37 2016-03-11 23:53:57   \n",
       "2  id0857912          2 2016-02-21 17:59:33 2016-02-21 18:26:48   \n",
       "3  id3744273          2 2016-01-05 09:44:31 2016-01-05 10:03:32   \n",
       "4  id0232939          1 2016-02-17 06:42:23 2016-02-17 06:56:31   \n",
       "\n",
       "   passenger_count  pickup_longitude  pickup_latitude  dropoff_longitude  \\\n",
       "0                1        -73.953918        40.778873         -73.963875   \n",
       "1                2        -73.988312        40.731743         -73.994751   \n",
       "2                2        -73.997314        40.721458         -73.948029   \n",
       "3                6        -73.961670        40.759720         -73.956779   \n",
       "4                1        -74.017120        40.708469         -73.988182   \n",
       "\n",
       "   dropoff_latitude store_and_fwd_flag  trip_duration  Pickup_day  \\\n",
       "0         40.771164                  N            400           0   \n",
       "1         40.694931                  N           1100           4   \n",
       "2         40.774918                  N           1635           6   \n",
       "3         40.780628                  N           1141           1   \n",
       "4         40.740631                  N            848           2   \n",
       "\n",
       "   Dropoff_day  Pickup_hour  Dropoff_hour  \n",
       "0            0           16            16  \n",
       "1            4           23            23  \n",
       "2            6           17            18  \n",
       "3            1            9            10  \n",
       "4            2            6             6  "
      ]
     },
     "execution_count": 5,
     "metadata": {},
     "output_type": "execute_result"
    }
   ],
   "source": [
    "data['Pickup_day']=data.pickup_datetime.dt.dayofweek\n",
    "data['Dropoff_day']=data.dropoff_datetime.dt.dayofweek\n",
    "data['Pickup_hour']=data.pickup_datetime.dt.hour\n",
    "data['Dropoff_hour']=data.dropoff_datetime.dt.hour\n",
    "data.head()"
   ]
  },
  {
   "cell_type": "code",
   "execution_count": 6,
   "id": "d31de033",
   "metadata": {},
   "outputs": [
    {
     "data": {
      "text/plain": [
       "(729322, 15)"
      ]
     },
     "execution_count": 6,
     "metadata": {},
     "output_type": "execute_result"
    }
   ],
   "source": [
    "data.shape"
   ]
  },
  {
   "cell_type": "code",
   "execution_count": 7,
   "id": "278dc55c",
   "metadata": {},
   "outputs": [
    {
     "data": {
      "text/plain": [
       "id                    0\n",
       "vendor_id             0\n",
       "pickup_datetime       0\n",
       "dropoff_datetime      0\n",
       "passenger_count       0\n",
       "pickup_longitude      0\n",
       "pickup_latitude       0\n",
       "dropoff_longitude     0\n",
       "dropoff_latitude      0\n",
       "store_and_fwd_flag    0\n",
       "trip_duration         0\n",
       "Pickup_day            0\n",
       "Dropoff_day           0\n",
       "Pickup_hour           0\n",
       "Dropoff_hour          0\n",
       "dtype: int64"
      ]
     },
     "execution_count": 7,
     "metadata": {},
     "output_type": "execute_result"
    }
   ],
   "source": [
    "data.isna().sum()"
   ]
  },
  {
   "cell_type": "code",
   "execution_count": 8,
   "id": "26e4a553",
   "metadata": {},
   "outputs": [
    {
     "data": {
      "text/plain": [
       "id                            object\n",
       "vendor_id                      int64\n",
       "pickup_datetime       datetime64[ns]\n",
       "dropoff_datetime      datetime64[ns]\n",
       "passenger_count                int64\n",
       "pickup_longitude             float64\n",
       "pickup_latitude              float64\n",
       "dropoff_longitude            float64\n",
       "dropoff_latitude             float64\n",
       "store_and_fwd_flag            object\n",
       "trip_duration                  int64\n",
       "Pickup_day                     int64\n",
       "Dropoff_day                    int64\n",
       "Pickup_hour                    int64\n",
       "Dropoff_hour                   int64\n",
       "dtype: object"
      ]
     },
     "execution_count": 8,
     "metadata": {},
     "output_type": "execute_result"
    }
   ],
   "source": [
    "data.dtypes"
   ]
  },
  {
   "cell_type": "code",
   "execution_count": 9,
   "id": "21b853e9",
   "metadata": {},
   "outputs": [],
   "source": [
    "#changing datatypes\n",
    "data['store_and_fwd_flag']=1*(data.store_and_fwd_flag.values=='Y')"
   ]
  },
  {
   "cell_type": "code",
   "execution_count": 10,
   "id": "af12bfd5",
   "metadata": {},
   "outputs": [
    {
     "data": {
      "text/plain": [
       "id                            object\n",
       "vendor_id                      int64\n",
       "pickup_datetime       datetime64[ns]\n",
       "dropoff_datetime      datetime64[ns]\n",
       "passenger_count                int64\n",
       "pickup_longitude             float64\n",
       "pickup_latitude              float64\n",
       "dropoff_longitude            float64\n",
       "dropoff_latitude             float64\n",
       "store_and_fwd_flag             int32\n",
       "trip_duration                  int64\n",
       "Pickup_day                     int64\n",
       "Dropoff_day                    int64\n",
       "Pickup_hour                    int64\n",
       "Dropoff_hour                   int64\n",
       "dtype: object"
      ]
     },
     "execution_count": 10,
     "metadata": {},
     "output_type": "execute_result"
    }
   ],
   "source": [
    "data.dtypes"
   ]
  },
  {
   "cell_type": "code",
   "execution_count": 11,
   "id": "46b07f59",
   "metadata": {},
   "outputs": [],
   "source": [
    "#segeragating variables\n",
    "x=data.drop(['trip_duration', 'id', 'pickup_datetime', 'dropoff_datetime'], axis=1)    #independent variable \n",
    "y=data['trip_duration']                                           #dependent variable"
   ]
  },
  {
   "cell_type": "code",
   "execution_count": 12,
   "id": "089d06ad",
   "metadata": {},
   "outputs": [],
   "source": [
    "#seperating train and test data\n",
    "trainx, testx, trainy, testy = tts(x, y, random_state=56)"
   ]
  },
  {
   "cell_type": "code",
   "execution_count": 13,
   "id": "42c57923",
   "metadata": {},
   "outputs": [
    {
     "data": {
      "text/plain": [
       "LinearRegression()"
      ]
     },
     "execution_count": 13,
     "metadata": {},
     "output_type": "execute_result"
    }
   ],
   "source": [
    "lr=LR()              #create instance\n",
    "lr.fit(trainx, trainy)    #fitting data\n"
   ]
  },
  {
   "cell_type": "code",
   "execution_count": 14,
   "id": "690aa257",
   "metadata": {},
   "outputs": [
    {
     "name": "stdout",
     "output_type": "stream",
     "text": [
      "train prediction mean absoulute error 603.9268434646589\n",
      "Train prediction R2_score -282.39509101772563\n"
     ]
    }
   ],
   "source": [
    "#prediction over train dataset\n",
    "train_prediction=lr.predict(trainx)\n",
    "k=mae(train_prediction, trainy)\n",
    "print(\"train prediction mean absoulute error\",k)\n",
    "print(\"Train prediction R2_score\", r2(train_prediction, trainy))"
   ]
  },
  {
   "cell_type": "code",
   "execution_count": 15,
   "id": "26c4cb8a",
   "metadata": {},
   "outputs": [
    {
     "name": "stdout",
     "output_type": "stream",
     "text": [
      "test prediction mean absolute error 597.4548441988155\n",
      "Test prediction R2_score -214.0660821960234\n"
     ]
    }
   ],
   "source": [
    "#prediction over test dataset\n",
    "test_prediction=lr.predict(testx)\n",
    "k=mae(test_prediction, testy)\n",
    "print(\"test prediction mean absolute error\", k)\n",
    "print(\"Test prediction R2_score\", r2(test_prediction, testy))"
   ]
  },
  {
   "cell_type": "code",
   "execution_count": 16,
   "id": "47cdab4a",
   "metadata": {
    "scrolled": false
   },
   "outputs": [
    {
     "data": {
      "text/plain": [
       "Text(0.5, 1.0, 'Coefficient Plot')"
      ]
     },
     "execution_count": 16,
     "metadata": {},
     "output_type": "execute_result"
    },
    {
     "data": {
      "image/png": "[encoded data removed]",
      "text/plain": [
       "<Figure size 960x720 with 1 Axes>"
      ]
     },
     "metadata": {},
     "output_type": "display_data"
    }
   ],
   "source": [
    "#Coefficient of all the parameter used in prediction\n",
    "lr.coef_\n",
    "#plotting the coefficient\n",
    "plt.figure(figsize=(8,6), dpi=120, facecolor='w', edgecolor='b')\n",
    "plt.bar(range(len(trainx.columns)), lr.coef_)\n",
    "plt.xlabel('Variables')\n",
    "plt.ylabel('Coefficients')\n",
    "plt.title('Coefficient Plot')"
   ]
  },
  {
   "cell_type": "code",
   "execution_count": 20,
   "id": "887d1129",
   "metadata": {},
   "outputs": [
    {
     "data": {
      "text/plain": [
       "array([ 2.04636851e+02,  1.76003549e+01,  2.55033896e+03, -3.41413835e+03,\n",
       "       -8.79958778e+02, -1.69600279e+03,  2.21973057e+02,  2.06529877e+02,\n",
       "       -2.12869420e+02,  2.34499400e+00, -1.43391480e+00])"
      ]
     },
     "execution_count": 20,
     "metadata": {},
     "output_type": "execute_result"
    }
   ],
   "source": [
    "lr.coef_"
   ]
  },
  {
   "cell_type": "code",
   "execution_count": 17,
   "id": "2d95d6cf",
   "metadata": {},
   "outputs": [
    {
     "name": "stdout",
     "output_type": "stream",
     "text": [
      "The R^2 score for alpha -214.22256621126647\n"
     ]
    }
   ],
   "source": [
    "from sklearn.linear_model import Ridge\n",
    "ridgereg=Ridge(alpha=0.5)\n",
    "ridgereg.fit(trainx, trainy)\n",
    "predict_ridgereg=ridgereg.predict(testx)\n",
    "r_sq=r2(predict_ridgereg, testy)\n",
    "print('The R^2 score for alpha', r_sq)"
   ]
  },
  {
   "cell_type": "code",
   "execution_count": 18,
   "id": "b0cbe18f",
   "metadata": {},
   "outputs": [
    {
     "name": "stdout",
     "output_type": "stream",
     "text": [
      "The R^2 score for alpha 0 is -214.0660821923609\n",
      "The R^2 score for alpha 1e-08 is -214.06608219549747\n",
      "The R^2 score for alpha 0.0001 is -214.066113495022\n",
      "The R^2 score for alpha 0.001 is -214.06639521885464\n",
      "The R^2 score for alpha 0.01 is -214.06921244677196\n",
      "The R^2 score for alpha 1 is -214.3789916917838\n",
      "The R^2 score for alpha 5 is -215.62829469080134\n",
      "The R^2 score for alpha 10 is -217.184701386267\n",
      "The R^2 score for alpha 20 is -220.2802962560712\n"
     ]
    }
   ],
   "source": [
    "for i in [0, 1e-8, 1e-4, 1e-3, 1e-2, 1, 5, 10, 20]:\n",
    "    ridgereg=Ridge(alpha=i)\n",
    "    ridgereg.fit(trainx, trainy)\n",
    "    predict_ridgereg=ridgereg.predict(testx)\n",
    "    r_sq=r2(predict_ridgereg, testy)\n",
    "    print('The R^2 score for alpha', i, 'is', r_sq)"
   ]
  },
  {
   "cell_type": "markdown",
   "id": "0426c463",
   "metadata": {},
   "source": [
    "from the above results we can conclude that LINEARREGRESSION MODEL WITH REGULARTIZATION is performing worse."
   ]
  },
  {
   "cell_type": "markdown",
   "id": "ef7362fa",
   "metadata": {},
   "source": [
    "# Attempting Interpret"
   ]
  },
  {
   "cell_type": "code",
   "execution_count": 23,
   "id": "e0cd9da6",
   "metadata": {},
   "outputs": [],
   "source": [
    "Coefficient=pd.DataFrame({\n",
    "    'Variable':x.columns,\n",
    "    'coefficient':lr.coef_\n",
    "})\n",
    "sig_var=Coefficient[Coefficient.coefficient>0.5]\n",
    "subset=data[sig_var['Variable'].values]\n",
    "subset.head()\n",
    "x1=subset\n",
    "y1=data['trip_duration']"
   ]
  },
  {
   "cell_type": "code",
   "execution_count": 27,
   "id": "f0ed51b5",
   "metadata": {},
   "outputs": [
    {
     "name": "stdout",
     "output_type": "stream",
     "text": [
      "train prediction mean absoulute error 615.2825635994342\n",
      "Train prediction R2_score -585.9260828894666\n",
      "test prediction mean absolute error 609.2893943930737\n",
      "Test prediction R2_score -571.4357987885804\n"
     ]
    }
   ],
   "source": [
    "Tx, tx, Ty, ty=tts(x1, y1, random_state=56)\n",
    "lr=LR()              #create instance\n",
    "lr.fit(Tx, Ty)    #fitting data\n",
    "#prediction over train dataset\n",
    "train_prediction=lr.predict(Tx)\n",
    "k=mae(train_prediction, Ty)\n",
    "print(\"train prediction mean absoulute error\",k)\n",
    "print(\"Train prediction R2_score\", r2(train_prediction, Ty))\n",
    "#prediction over test dataset\n",
    "test_prediction=lr.predict(tx)\n",
    "k=mae(test_prediction, ty)\n",
    "print(\"test prediction mean absolute error\", k)\n",
    "print(\"Test prediction R2_score\", r2(test_prediction, ty))"
   ]
  },
  {
   "cell_type": "code",
   "execution_count": null,
   "id": "61b84315",
   "metadata": {},
   "outputs": [],
   "source": []
  }
 ],
 "metadata": {
  "kernelspec": {
   "display_name": "Python 3 (ipykernel)",
   "language": "python",
   "name": "python3"
  },
  "language_info": {
   "codemirror_mode": {
    "name": "ipython",
    "version": 3
   },
   "file_extension": ".py",
   "mimetype": "text/x-python",
   "name": "python",
   "nbconvert_exporter": "python",
   "pygments_lexer": "ipython3",
   "version": "3.9.12"
  }
 },
 "nbformat": 4,
 "nbformat_minor": 5
}
