{
 "cells": [
  {
   "cell_type": "markdown",
   "id": "23e964a8",
   "metadata": {},
   "source": [
    "# Creating a BenchMark Model using Linear regression"
   ]
  },
  {
   "cell_type": "code",
   "execution_count": 1,
   "id": "4ea0f73a",
   "metadata": {},
   "outputs": [],
   "source": [
    "import pandas as pd\n",
    "import numpy as np\n",
    "import matplotlib.pyplot as plt\n",
    "import datetime as dt"
   ]
  },
  {
   "cell_type": "code",
   "execution_count": 2,
   "id": "5d53730a",
   "metadata": {},
   "outputs": [
    {
     "data": {
      "text/plain": [
       "id                     object\n",
       "vendor_id               int64\n",
       "pickup_datetime        object\n",
       "dropoff_datetime       object\n",
       "passenger_count         int64\n",
       "pickup_longitude      float64\n",
       "pickup_latitude       float64\n",
       "dropoff_longitude     float64\n",
       "dropoff_latitude      float64\n",
       "store_and_fwd_flag     object\n",
       "trip_duration           int64\n",
       "dtype: object"
      ]
     },
     "execution_count": 2,
     "metadata": {},
     "output_type": "execute_result"
    }
   ],
   "source": [
    "#loading data\n",
    "data=pd.read_csv('C:\\\\NYC_trip.csv')\n",
    "data.dtypes"
   ]
  },
  {
   "cell_type": "code",
   "execution_count": 3,
   "id": "997396ea",
   "metadata": {},
   "outputs": [
    {
     "data": {
      "text/plain": [
       "id                            object\n",
       "vendor_id                      int64\n",
       "pickup_datetime       datetime64[ns]\n",
       "dropoff_datetime      datetime64[ns]\n",
       "passenger_count                int64\n",
       "pickup_longitude             float64\n",
       "pickup_latitude              float64\n",
       "dropoff_longitude            float64\n",
       "dropoff_latitude             float64\n",
       "store_and_fwd_flag            object\n",
       "trip_duration                  int64\n",
       "dtype: object"
      ]
     },
     "execution_count": 3,
     "metadata": {},
     "output_type": "execute_result"
    }
   ],
   "source": [
    "#Converting datetime data types\n",
    "data.pickup_datetime=pd.to_datetime(data.pickup_datetime)\n",
    "data.dropoff_datetime=pd.to_datetime(data.dropoff_datetime)\n",
    "data.dtypes"
   ]
  },
  {
   "cell_type": "code",
   "execution_count": 4,
   "id": "a7a3375d",
   "metadata": {},
   "outputs": [
    {
     "data": {
      "text/html": [
       "<div>\n",
       "<style scoped>\n",
       "    .dataframe tbody tr th:only-of-type {\n",
       "        vertical-align: middle;\n",
       "    }\n",
       "\n",
       "    .dataframe tbody tr th {\n",
       "        vertical-align: top;\n",
       "    }\n",
       "\n",
       "    .dataframe thead th {\n",
       "        text-align: right;\n",
       "    }\n",
       "</style>\n",
       "<table border=\"1\" class=\"dataframe\">\n",
       "  <thead>\n",
       "    <tr style=\"text-align: right;\">\n",
       "      <th></th>\n",
       "      <th>id</th>\n",
       "      <th>vendor_id</th>\n",
       "      <th>pickup_datetime</th>\n",
       "      <th>dropoff_datetime</th>\n",
       "      <th>passenger_count</th>\n",
       "      <th>pickup_longitude</th>\n",
       "      <th>pickup_latitude</th>\n",
       "      <th>dropoff_longitude</th>\n",
       "      <th>dropoff_latitude</th>\n",
       "      <th>store_and_fwd_flag</th>\n",
       "      <th>trip_duration</th>\n",
       "      <th>Pickup_day</th>\n",
       "      <th>Dropoff_day</th>\n",
       "      <th>Pickup_hour</th>\n",
       "      <th>Dropoff_hour</th>\n",
       "    </tr>\n",
       "  </thead>\n",
       "  <tbody>\n",
       "    <tr>\n",
       "      <th>0</th>\n",
       "      <td>id1080784</td>\n",
       "      <td>2</td>\n",
       "      <td>2016-02-29 16:40:21</td>\n",
       "      <td>2016-02-29 16:47:01</td>\n",
       "      <td>1</td>\n",
       "      <td>-73.953918</td>\n",
       "      <td>40.778873</td>\n",
       "      <td>-73.963875</td>\n",
       "      <td>40.771164</td>\n",
       "      <td>N</td>\n",
       "      <td>400</td>\n",
       "      <td>0</td>\n",
       "      <td>0</td>\n",
       "      <td>16</td>\n",
       "      <td>16</td>\n",
       "    </tr>\n",
       "    <tr>\n",
       "      <th>1</th>\n",
       "      <td>id0889885</td>\n",
       "      <td>1</td>\n",
       "      <td>2016-03-11 23:35:37</td>\n",
       "      <td>2016-03-11 23:53:57</td>\n",
       "      <td>2</td>\n",
       "      <td>-73.988312</td>\n",
       "      <td>40.731743</td>\n",
       "      <td>-73.994751</td>\n",
       "      <td>40.694931</td>\n",
       "      <td>N</td>\n",
       "      <td>1100</td>\n",
       "      <td>4</td>\n",
       "      <td>4</td>\n",
       "      <td>23</td>\n",
       "      <td>23</td>\n",
       "    </tr>\n",
       "    <tr>\n",
       "      <th>2</th>\n",
       "      <td>id0857912</td>\n",
       "      <td>2</td>\n",
       "      <td>2016-02-21 17:59:33</td>\n",
       "      <td>2016-02-21 18:26:48</td>\n",
       "      <td>2</td>\n",
       "      <td>-73.997314</td>\n",
       "      <td>40.721458</td>\n",
       "      <td>-73.948029</td>\n",
       "      <td>40.774918</td>\n",
       "      <td>N</td>\n",
       "      <td>1635</td>\n",
       "      <td>6</td>\n",
       "      <td>6</td>\n",
       "      <td>17</td>\n",
       "      <td>18</td>\n",
       "    </tr>\n",
       "    <tr>\n",
       "      <th>3</th>\n",
       "      <td>id3744273</td>\n",
       "      <td>2</td>\n",
       "      <td>2016-01-05 09:44:31</td>\n",
       "      <td>2016-01-05 10:03:32</td>\n",
       "      <td>6</td>\n",
       "      <td>-73.961670</td>\n",
       "      <td>40.759720</td>\n",
       "      <td>-73.956779</td>\n",
       "      <td>40.780628</td>\n",
       "      <td>N</td>\n",
       "      <td>1141</td>\n",
       "      <td>1</td>\n",
       "      <td>1</td>\n",
       "      <td>9</td>\n",
       "      <td>10</td>\n",
       "    </tr>\n",
       "    <tr>\n",
       "      <th>4</th>\n",
       "      <td>id0232939</td>\n",
       "      <td>1</td>\n",
       "      <td>2016-02-17 06:42:23</td>\n",
       "      <td>2016-02-17 06:56:31</td>\n",
       "      <td>1</td>\n",
       "      <td>-74.017120</td>\n",
       "      <td>40.708469</td>\n",
       "      <td>-73.988182</td>\n",
       "      <td>40.740631</td>\n",
       "      <td>N</td>\n",
       "      <td>848</td>\n",
       "      <td>2</td>\n",
       "      <td>2</td>\n",
       "      <td>6</td>\n",
       "      <td>6</td>\n",
       "    </tr>\n",
       "  </tbody>\n",
       "</table>\n",
       "</div>"
      ],
      "text/plain": [
       "          id  vendor_id     pickup_datetime    dropoff_datetime  \\\n",
       "0  id1080784          2 2016-02-29 16:40:21 2016-02-29 16:47:01   \n",
       "1  id0889885          1 2016-03-11 23:35:37 2016-03-11 23:53:57   \n",
       "2  id0857912          2 2016-02-21 17:59:33 2016-02-21 18:26:48   \n",
       "3  id3744273          2 2016-01-05 09:44:31 2016-01-05 10:03:32   \n",
       "4  id0232939          1 2016-02-17 06:42:23 2016-02-17 06:56:31   \n",
       "\n",
       "   passenger_count  pickup_longitude  pickup_latitude  dropoff_longitude  \\\n",
       "0                1        -73.953918        40.778873         -73.963875   \n",
       "1                2        -73.988312        40.731743         -73.994751   \n",
       "2                2        -73.997314        40.721458         -73.948029   \n",
       "3                6        -73.961670        40.759720         -73.956779   \n",
       "4                1        -74.017120        40.708469         -73.988182   \n",
       "\n",
       "   dropoff_latitude store_and_fwd_flag  trip_duration  Pickup_day  \\\n",
       "0         40.771164                  N            400           0   \n",
       "1         40.694931                  N           1100           4   \n",
       "2         40.774918                  N           1635           6   \n",
       "3         40.780628                  N           1141           1   \n",
       "4         40.740631                  N            848           2   \n",
       "\n",
       "   Dropoff_day  Pickup_hour  Dropoff_hour  \n",
       "0            0           16            16  \n",
       "1            4           23            23  \n",
       "2            6           17            18  \n",
       "3            1            9            10  \n",
       "4            2            6             6  "
      ]
     },
     "execution_count": 4,
     "metadata": {},
     "output_type": "execute_result"
    }
   ],
   "source": [
    "#Creating new columns\n",
    "data['Pickup_day']=data.pickup_datetime.dt.dayofweek\n",
    "data['Dropoff_day']=data.dropoff_datetime.dt.dayofweek\n",
    "data['Pickup_hour']=data.pickup_datetime.dt.hour\n",
    "data['Dropoff_hour']=data.dropoff_datetime.dt.hour\n",
    "data.head()"
   ]
  },
  {
   "cell_type": "code",
   "execution_count": 5,
   "id": "8f7f5933",
   "metadata": {},
   "outputs": [
    {
     "data": {
      "text/plain": [
       "(729322, 15)"
      ]
     },
     "execution_count": 5,
     "metadata": {},
     "output_type": "execute_result"
    }
   ],
   "source": [
    "data.shape"
   ]
  },
  {
   "cell_type": "code",
   "execution_count": 6,
   "id": "cfe4fe01",
   "metadata": {},
   "outputs": [
    {
     "data": {
      "text/plain": [
       "id                    0\n",
       "vendor_id             0\n",
       "pickup_datetime       0\n",
       "dropoff_datetime      0\n",
       "passenger_count       0\n",
       "pickup_longitude      0\n",
       "pickup_latitude       0\n",
       "dropoff_longitude     0\n",
       "dropoff_latitude      0\n",
       "store_and_fwd_flag    0\n",
       "trip_duration         0\n",
       "Pickup_day            0\n",
       "Dropoff_day           0\n",
       "Pickup_hour           0\n",
       "Dropoff_hour          0\n",
       "dtype: int64"
      ]
     },
     "execution_count": 6,
     "metadata": {},
     "output_type": "execute_result"
    }
   ],
   "source": [
    "data.isna().sum()"
   ]
  },
  {
   "cell_type": "code",
   "execution_count": 7,
   "id": "82c7e42b",
   "metadata": {},
   "outputs": [
    {
     "data": {
      "text/plain": [
       "id                            object\n",
       "vendor_id                      int64\n",
       "pickup_datetime       datetime64[ns]\n",
       "dropoff_datetime      datetime64[ns]\n",
       "passenger_count                int64\n",
       "pickup_longitude             float64\n",
       "pickup_latitude              float64\n",
       "dropoff_longitude            float64\n",
       "dropoff_latitude             float64\n",
       "store_and_fwd_flag            object\n",
       "trip_duration                  int64\n",
       "Pickup_day                     int64\n",
       "Dropoff_day                    int64\n",
       "Pickup_hour                    int64\n",
       "Dropoff_hour                   int64\n",
       "dtype: object"
      ]
     },
     "execution_count": 7,
     "metadata": {},
     "output_type": "execute_result"
    }
   ],
   "source": [
    "data.dtypes"
   ]
  },
  {
   "cell_type": "code",
   "execution_count": 8,
   "id": "d8a5ed95",
   "metadata": {},
   "outputs": [],
   "source": [
    "#changing datatypes\n",
    "data['store_and_fwd_flag']=1*(data.store_and_fwd_flag.values=='Y')"
   ]
  },
  {
   "cell_type": "code",
   "execution_count": 9,
   "id": "fa3de1d3",
   "metadata": {},
   "outputs": [
    {
     "data": {
      "text/plain": [
       "id                            object\n",
       "vendor_id                      int64\n",
       "pickup_datetime       datetime64[ns]\n",
       "dropoff_datetime      datetime64[ns]\n",
       "passenger_count                int64\n",
       "pickup_longitude             float64\n",
       "pickup_latitude              float64\n",
       "dropoff_longitude            float64\n",
       "dropoff_latitude             float64\n",
       "store_and_fwd_flag             int32\n",
       "trip_duration                  int64\n",
       "Pickup_day                     int64\n",
       "Dropoff_day                    int64\n",
       "Pickup_hour                    int64\n",
       "Dropoff_hour                   int64\n",
       "dtype: object"
      ]
     },
     "execution_count": 9,
     "metadata": {},
     "output_type": "execute_result"
    }
   ],
   "source": [
    "data.dtypes"
   ]
  },
  {
   "cell_type": "code",
   "execution_count": 10,
   "id": "b8845ae8",
   "metadata": {},
   "outputs": [],
   "source": [
    "#segeragating data\n",
    "x=data.drop(['trip_duration','id', 'pickup_datetime', 'dropoff_datetime'], axis=1)   #independent variables\n",
    "y=data['trip_duration']                   #dependent variable (target)"
   ]
  },
  {
   "cell_type": "code",
   "execution_count": 11,
   "id": "a332d400",
   "metadata": {},
   "outputs": [],
   "source": [
    "#dividing data into train and test dataset\n",
    "from sklearn.model_selection import train_test_split as tts\n",
    "trainx, testx, trainy, testy=tts(x,y, random_state=56)"
   ]
  },
  {
   "cell_type": "code",
   "execution_count": 12,
   "id": "8e2dbcc6",
   "metadata": {},
   "outputs": [],
   "source": [
    "from sklearn.linear_model import LinearRegression as LR\n",
    "from sklearn.metrics import mean_absolute_error as mae"
   ]
  },
  {
   "cell_type": "code",
   "execution_count": 14,
   "id": "8ca4a5e7",
   "metadata": {},
   "outputs": [
    {
     "name": "stdout",
     "output_type": "stream",
     "text": [
      "Train prediction mean absoulute error 603.9268434646589\n",
      "Test prediction mean absolute error 597.4548441988155\n"
     ]
    }
   ],
   "source": [
    "lr=LR()                                  #creating instance\n",
    "lr.fit(trainx, trainy)                   #fitting data\n",
    "#prediction over train dataset\n",
    "train_prediction=lr.predict(trainx)\n",
    "k=mae(train_prediction, trainy)\n",
    "print(\"Train prediction mean absoulute error\", k)\n",
    "#prediction over test dataset\n",
    "test_prediction=lr.predict(testx)\n",
    "k=mae(test_prediction, testy)\n",
    "print(\"Test prediction mean absolute error\", k)"
   ]
  },
  {
   "cell_type": "markdown",
   "id": "94ef8b14",
   "metadata": {},
   "source": [
    "We can definitely see that the predictions for the test dataset are much better than that of train data set"
   ]
  },
  {
   "cell_type": "code",
   "execution_count": 16,
   "id": "6b8dba95",
   "metadata": {},
   "outputs": [
    {
     "data": {
      "text/html": [
       "<div>\n",
       "<style scoped>\n",
       "    .dataframe tbody tr th:only-of-type {\n",
       "        vertical-align: middle;\n",
       "    }\n",
       "\n",
       "    .dataframe tbody tr th {\n",
       "        vertical-align: top;\n",
       "    }\n",
       "\n",
       "    .dataframe thead th {\n",
       "        text-align: right;\n",
       "    }\n",
       "</style>\n",
       "<table border=\"1\" class=\"dataframe\">\n",
       "  <thead>\n",
       "    <tr style=\"text-align: right;\">\n",
       "      <th></th>\n",
       "      <th>fitted values</th>\n",
       "      <th>predicted values</th>\n",
       "      <th>residual</th>\n",
       "    </tr>\n",
       "  </thead>\n",
       "  <tbody>\n",
       "    <tr>\n",
       "      <th>15861</th>\n",
       "      <td>801</td>\n",
       "      <td>1070.696993</td>\n",
       "      <td>-269.696993</td>\n",
       "    </tr>\n",
       "    <tr>\n",
       "      <th>275904</th>\n",
       "      <td>378</td>\n",
       "      <td>1251.208302</td>\n",
       "      <td>-873.208302</td>\n",
       "    </tr>\n",
       "    <tr>\n",
       "      <th>237361</th>\n",
       "      <td>243</td>\n",
       "      <td>861.265379</td>\n",
       "      <td>-618.265379</td>\n",
       "    </tr>\n",
       "    <tr>\n",
       "      <th>142741</th>\n",
       "      <td>334</td>\n",
       "      <td>798.502602</td>\n",
       "      <td>-464.502602</td>\n",
       "    </tr>\n",
       "    <tr>\n",
       "      <th>21032</th>\n",
       "      <td>655</td>\n",
       "      <td>1065.190948</td>\n",
       "      <td>-410.190948</td>\n",
       "    </tr>\n",
       "  </tbody>\n",
       "</table>\n",
       "</div>"
      ],
      "text/plain": [
       "        fitted values  predicted values    residual\n",
       "15861             801       1070.696993 -269.696993\n",
       "275904            378       1251.208302 -873.208302\n",
       "237361            243        861.265379 -618.265379\n",
       "142741            334        798.502602 -464.502602\n",
       "21032             655       1065.190948 -410.190948"
      ]
     },
     "execution_count": 16,
     "metadata": {},
     "output_type": "execute_result"
    }
   ],
   "source": [
    "#Coefficient of all the parameter used in prediction\n",
    "lr.coef_\n",
    "#Checking the assumptions in LR benchmark model for train data\n",
    "assump=pd.DataFrame({\n",
    "    'fitted values':trainy,\n",
    "    'predicted values':train_prediction\n",
    "})\n",
    "assump['residual']=assump['fitted values']-assump['predicted values']\n",
    "assump.head()"
   ]
  },
  {
   "cell_type": "code",
   "execution_count": 18,
   "id": "73980c06",
   "metadata": {},
   "outputs": [
    {
     "data": {
      "text/html": [
       "<div>\n",
       "<style scoped>\n",
       "    .dataframe tbody tr th:only-of-type {\n",
       "        vertical-align: middle;\n",
       "    }\n",
       "\n",
       "    .dataframe tbody tr th {\n",
       "        vertical-align: top;\n",
       "    }\n",
       "\n",
       "    .dataframe thead th {\n",
       "        text-align: right;\n",
       "    }\n",
       "</style>\n",
       "<table border=\"1\" class=\"dataframe\">\n",
       "  <thead>\n",
       "    <tr style=\"text-align: right;\">\n",
       "      <th></th>\n",
       "      <th>Fitted values</th>\n",
       "      <th>Predicted values</th>\n",
       "      <th>residual</th>\n",
       "    </tr>\n",
       "  </thead>\n",
       "  <tbody>\n",
       "    <tr>\n",
       "      <th>14908</th>\n",
       "      <td>2406</td>\n",
       "      <td>649.038122</td>\n",
       "      <td>1756.961878</td>\n",
       "    </tr>\n",
       "    <tr>\n",
       "      <th>87154</th>\n",
       "      <td>1457</td>\n",
       "      <td>914.855753</td>\n",
       "      <td>542.144247</td>\n",
       "    </tr>\n",
       "    <tr>\n",
       "      <th>666581</th>\n",
       "      <td>163</td>\n",
       "      <td>972.922920</td>\n",
       "      <td>-809.922920</td>\n",
       "    </tr>\n",
       "    <tr>\n",
       "      <th>543467</th>\n",
       "      <td>2160</td>\n",
       "      <td>1169.359371</td>\n",
       "      <td>990.640629</td>\n",
       "    </tr>\n",
       "    <tr>\n",
       "      <th>105193</th>\n",
       "      <td>402</td>\n",
       "      <td>761.103586</td>\n",
       "      <td>-359.103586</td>\n",
       "    </tr>\n",
       "  </tbody>\n",
       "</table>\n",
       "</div>"
      ],
      "text/plain": [
       "        Fitted values  Predicted values     residual\n",
       "14908            2406        649.038122  1756.961878\n",
       "87154            1457        914.855753   542.144247\n",
       "666581            163        972.922920  -809.922920\n",
       "543467           2160       1169.359371   990.640629\n",
       "105193            402        761.103586  -359.103586"
      ]
     },
     "execution_count": 18,
     "metadata": {},
     "output_type": "execute_result"
    }
   ],
   "source": [
    "#Checking the assumptions in our LR benchmark model for test data\n",
    "assum=pd.DataFrame({\n",
    "    'Fitted values':testy,\n",
    "    'Predicted values':test_prediction\n",
    "})\n",
    "assum['residual']=assum['Fitted values']-assum['Predicted values']\n",
    "assum.head()"
   ]
  },
  {
   "cell_type": "markdown",
   "id": "04f6d9cd",
   "metadata": {},
   "source": [
    "# BenchMark Model Complete"
   ]
  }
 ],
 "metadata": {
  "kernelspec": {
   "display_name": "Python 3 (ipykernel)",
   "language": "python",
   "name": "python3"
  },
  "language_info": {
   "codemirror_mode": {
    "name": "ipython",
    "version": 3
   },
   "file_extension": ".py",
   "mimetype": "text/x-python",
   "name": "python",
   "nbconvert_exporter": "python",
   "pygments_lexer": "ipython3",
   "version": "3.9.12"
  }
 },
 "nbformat": 4,
 "nbformat_minor": 5
}
