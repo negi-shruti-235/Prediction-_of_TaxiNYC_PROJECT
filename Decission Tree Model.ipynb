{
 "cells": [
  {
   "cell_type": "markdown",
   "id": "25bd8867",
   "metadata": {},
   "source": [
    "# Building Decision Tree Model"
   ]
  },
  {
   "cell_type": "code",
   "execution_count": 3,
   "id": "31f93a9c",
   "metadata": {},
   "outputs": [],
   "source": [
    "import pandas as pd\n",
    "import numpy as np\n",
    "import matplotlib.pyplot as plt\n",
    "import datetime as dt\n"
   ]
  },
  {
   "cell_type": "code",
   "execution_count": 4,
   "id": "3210f636",
   "metadata": {},
   "outputs": [
    {
     "data": {
      "text/plain": [
       "id                     object\n",
       "vendor_id               int64\n",
       "pickup_datetime        object\n",
       "dropoff_datetime       object\n",
       "passenger_count         int64\n",
       "pickup_longitude      float64\n",
       "pickup_latitude       float64\n",
       "dropoff_longitude     float64\n",
       "dropoff_latitude      float64\n",
       "store_and_fwd_flag     object\n",
       "trip_duration           int64\n",
       "dtype: object"
      ]
     },
     "execution_count": 4,
     "metadata": {},
     "output_type": "execute_result"
    }
   ],
   "source": [
    "#loading data\n",
    "data=pd.read_csv('C:\\\\NYC_trip.csv')\n",
    "data.dtypes"
   ]
  },
  {
   "cell_type": "code",
   "execution_count": 5,
   "id": "93924919",
   "metadata": {},
   "outputs": [
    {
     "data": {
      "text/plain": [
       "(729322, 11)"
      ]
     },
     "execution_count": 5,
     "metadata": {},
     "output_type": "execute_result"
    }
   ],
   "source": [
    "data.shape"
   ]
  },
  {
   "cell_type": "code",
   "execution_count": 6,
   "id": "209dcce1",
   "metadata": {},
   "outputs": [
    {
     "data": {
      "text/plain": [
       "id                    0\n",
       "vendor_id             0\n",
       "pickup_datetime       0\n",
       "dropoff_datetime      0\n",
       "passenger_count       0\n",
       "pickup_longitude      0\n",
       "pickup_latitude       0\n",
       "dropoff_longitude     0\n",
       "dropoff_latitude      0\n",
       "store_and_fwd_flag    0\n",
       "trip_duration         0\n",
       "dtype: int64"
      ]
     },
     "execution_count": 6,
     "metadata": {},
     "output_type": "execute_result"
    }
   ],
   "source": [
    "data.isna().sum()"
   ]
  },
  {
   "cell_type": "code",
   "execution_count": 7,
   "id": "25dea949",
   "metadata": {},
   "outputs": [],
   "source": [
    "#changing datatypes\n",
    "data.pickup_datetime=pd.to_datetime(data.pickup_datetime)\n",
    "data.dropoff_datetime=pd.to_datetime(data.dropoff_datetime)\n",
    "data['store_and_fwd_flag']=1*(data.store_and_fwd_flag.values=='Y')"
   ]
  },
  {
   "cell_type": "code",
   "execution_count": 8,
   "id": "53712fa4",
   "metadata": {},
   "outputs": [
    {
     "data": {
      "text/html": [
       "<div>\n",
       "<style scoped>\n",
       "    .dataframe tbody tr th:only-of-type {\n",
       "        vertical-align: middle;\n",
       "    }\n",
       "\n",
       "    .dataframe tbody tr th {\n",
       "        vertical-align: top;\n",
       "    }\n",
       "\n",
       "    .dataframe thead th {\n",
       "        text-align: right;\n",
       "    }\n",
       "</style>\n",
       "<table border=\"1\" class=\"dataframe\">\n",
       "  <thead>\n",
       "    <tr style=\"text-align: right;\">\n",
       "      <th></th>\n",
       "      <th>id</th>\n",
       "      <th>vendor_id</th>\n",
       "      <th>pickup_datetime</th>\n",
       "      <th>dropoff_datetime</th>\n",
       "      <th>passenger_count</th>\n",
       "      <th>pickup_longitude</th>\n",
       "      <th>pickup_latitude</th>\n",
       "      <th>dropoff_longitude</th>\n",
       "      <th>dropoff_latitude</th>\n",
       "      <th>store_and_fwd_flag</th>\n",
       "      <th>trip_duration</th>\n",
       "      <th>Pickup_day</th>\n",
       "      <th>Dropoff_day</th>\n",
       "      <th>Pickup_hour</th>\n",
       "      <th>Dropoff_hour</th>\n",
       "    </tr>\n",
       "  </thead>\n",
       "  <tbody>\n",
       "    <tr>\n",
       "      <th>0</th>\n",
       "      <td>id1080784</td>\n",
       "      <td>2</td>\n",
       "      <td>2016-02-29 16:40:21</td>\n",
       "      <td>2016-02-29 16:47:01</td>\n",
       "      <td>1</td>\n",
       "      <td>-73.953918</td>\n",
       "      <td>40.778873</td>\n",
       "      <td>-73.963875</td>\n",
       "      <td>40.771164</td>\n",
       "      <td>0</td>\n",
       "      <td>400</td>\n",
       "      <td>0</td>\n",
       "      <td>0</td>\n",
       "      <td>16</td>\n",
       "      <td>16</td>\n",
       "    </tr>\n",
       "    <tr>\n",
       "      <th>1</th>\n",
       "      <td>id0889885</td>\n",
       "      <td>1</td>\n",
       "      <td>2016-03-11 23:35:37</td>\n",
       "      <td>2016-03-11 23:53:57</td>\n",
       "      <td>2</td>\n",
       "      <td>-73.988312</td>\n",
       "      <td>40.731743</td>\n",
       "      <td>-73.994751</td>\n",
       "      <td>40.694931</td>\n",
       "      <td>0</td>\n",
       "      <td>1100</td>\n",
       "      <td>4</td>\n",
       "      <td>4</td>\n",
       "      <td>23</td>\n",
       "      <td>23</td>\n",
       "    </tr>\n",
       "    <tr>\n",
       "      <th>2</th>\n",
       "      <td>id0857912</td>\n",
       "      <td>2</td>\n",
       "      <td>2016-02-21 17:59:33</td>\n",
       "      <td>2016-02-21 18:26:48</td>\n",
       "      <td>2</td>\n",
       "      <td>-73.997314</td>\n",
       "      <td>40.721458</td>\n",
       "      <td>-73.948029</td>\n",
       "      <td>40.774918</td>\n",
       "      <td>0</td>\n",
       "      <td>1635</td>\n",
       "      <td>6</td>\n",
       "      <td>6</td>\n",
       "      <td>17</td>\n",
       "      <td>18</td>\n",
       "    </tr>\n",
       "    <tr>\n",
       "      <th>3</th>\n",
       "      <td>id3744273</td>\n",
       "      <td>2</td>\n",
       "      <td>2016-01-05 09:44:31</td>\n",
       "      <td>2016-01-05 10:03:32</td>\n",
       "      <td>6</td>\n",
       "      <td>-73.961670</td>\n",
       "      <td>40.759720</td>\n",
       "      <td>-73.956779</td>\n",
       "      <td>40.780628</td>\n",
       "      <td>0</td>\n",
       "      <td>1141</td>\n",
       "      <td>1</td>\n",
       "      <td>1</td>\n",
       "      <td>9</td>\n",
       "      <td>10</td>\n",
       "    </tr>\n",
       "    <tr>\n",
       "      <th>4</th>\n",
       "      <td>id0232939</td>\n",
       "      <td>1</td>\n",
       "      <td>2016-02-17 06:42:23</td>\n",
       "      <td>2016-02-17 06:56:31</td>\n",
       "      <td>1</td>\n",
       "      <td>-74.017120</td>\n",
       "      <td>40.708469</td>\n",
       "      <td>-73.988182</td>\n",
       "      <td>40.740631</td>\n",
       "      <td>0</td>\n",
       "      <td>848</td>\n",
       "      <td>2</td>\n",
       "      <td>2</td>\n",
       "      <td>6</td>\n",
       "      <td>6</td>\n",
       "    </tr>\n",
       "  </tbody>\n",
       "</table>\n",
       "</div>"
      ],
      "text/plain": [
       "          id  vendor_id     pickup_datetime    dropoff_datetime  \\\n",
       "0  id1080784          2 2016-02-29 16:40:21 2016-02-29 16:47:01   \n",
       "1  id0889885          1 2016-03-11 23:35:37 2016-03-11 23:53:57   \n",
       "2  id0857912          2 2016-02-21 17:59:33 2016-02-21 18:26:48   \n",
       "3  id3744273          2 2016-01-05 09:44:31 2016-01-05 10:03:32   \n",
       "4  id0232939          1 2016-02-17 06:42:23 2016-02-17 06:56:31   \n",
       "\n",
       "   passenger_count  pickup_longitude  pickup_latitude  dropoff_longitude  \\\n",
       "0                1        -73.953918        40.778873         -73.963875   \n",
       "1                2        -73.988312        40.731743         -73.994751   \n",
       "2                2        -73.997314        40.721458         -73.948029   \n",
       "3                6        -73.961670        40.759720         -73.956779   \n",
       "4                1        -74.017120        40.708469         -73.988182   \n",
       "\n",
       "   dropoff_latitude  store_and_fwd_flag  trip_duration  Pickup_day  \\\n",
       "0         40.771164                   0            400           0   \n",
       "1         40.694931                   0           1100           4   \n",
       "2         40.774918                   0           1635           6   \n",
       "3         40.780628                   0           1141           1   \n",
       "4         40.740631                   0            848           2   \n",
       "\n",
       "   Dropoff_day  Pickup_hour  Dropoff_hour  \n",
       "0            0           16            16  \n",
       "1            4           23            23  \n",
       "2            6           17            18  \n",
       "3            1            9            10  \n",
       "4            2            6             6  "
      ]
     },
     "execution_count": 8,
     "metadata": {},
     "output_type": "execute_result"
    }
   ],
   "source": [
    "#creating new data columns\n",
    "data['Pickup_day']=data.pickup_datetime.dt.dayofweek\n",
    "data['Dropoff_day']=data.dropoff_datetime.dt.dayofweek\n",
    "data['Pickup_hour']=data.pickup_datetime.dt.hour\n",
    "data['Dropoff_hour']=data.dropoff_datetime.dt.hour\n",
    "data.head()"
   ]
  },
  {
   "cell_type": "code",
   "execution_count": 9,
   "id": "c81b6f04",
   "metadata": {},
   "outputs": [],
   "source": [
    "#segeragating variables\n",
    "x=data.drop(['trip_duration', 'id', 'pickup_datetime', 'dropoff_datetime'], axis=1)    #independent variable \n",
    "y=data['trip_duration']                                           #dependent variable"
   ]
  },
  {
   "cell_type": "code",
   "execution_count": 10,
   "id": "53e5bc51",
   "metadata": {},
   "outputs": [],
   "source": [
    "#importing train test split\n",
    "from sklearn.model_selection import train_test_split as tts\n",
    "#splitting the data\n",
    "train_x, test_x, train_y, test_y=tts(x,y, random_state=67)"
   ]
  },
  {
   "cell_type": "code",
   "execution_count": 11,
   "id": "37b16120",
   "metadata": {},
   "outputs": [
    {
     "data": {
      "text/plain": [
       "DecisionTreeRegressor(max_leaf_nodes=15, random_state=67)"
      ]
     },
     "execution_count": 11,
     "metadata": {},
     "output_type": "execute_result"
    }
   ],
   "source": [
    "from sklearn.tree import DecisionTreeRegressor as DTS\n",
    "dts=DTS(max_leaf_nodes=15, random_state=67)            #creating instance\n",
    "dts.fit(train_x, train_y)                              #fitting data"
   ]
  },
  {
   "cell_type": "code",
   "execution_count": 12,
   "id": "a7de941d",
   "metadata": {},
   "outputs": [
    {
     "name": "stdout",
     "output_type": "stream",
     "text": [
      "R-square Error 0.01469103318311904\n"
     ]
    }
   ],
   "source": [
    "#predicting values on test set\n",
    "pred_test=dts.predict(test_x)\n",
    "from sklearn.metrics import r2_score as r2\n",
    "r_sq=r2(test_y, pred_test)\n",
    "print('R-square Error', r_sq)"
   ]
  },
  {
   "cell_type": "code",
   "execution_count": 27,
   "id": "6376ac33",
   "metadata": {},
   "outputs": [
    {
     "name": "stdout",
     "output_type": "stream",
     "text": [
      "R-square Error 0.42747709135425294\n"
     ]
    }
   ],
   "source": [
    "#predicting values on train set\n",
    "pred_train=dts.predict(train_x)\n",
    "r_sq=r2(train_y, pred_train)\n",
    "print('R-square Error', r_sq)"
   ]
  },
  {
   "cell_type": "code",
   "execution_count": null,
   "id": "61cc1b03",
   "metadata": {},
   "outputs": [],
   "source": [
    "rom sklearn.tree import export_graphviz as eg\n",
    "eg(dts, out_file='C:\\\\DTModel.dot', feature_names=data[\"trip_duration\"])"
   ]
  },
  {
   "cell_type": "markdown",
   "id": "7a219fb3",
   "metadata": {},
   "source": [
    "Attempting To interpret variable importance"
   ]
  },
  {
   "cell_type": "code",
   "execution_count": 14,
   "id": "150e1bd9",
   "metadata": {},
   "outputs": [
    {
     "name": "stdout",
     "output_type": "stream",
     "text": [
      "[0.00127018 0.         0.01428288 0.00178183 0.49203862 0.00581007\n",
      " 0.         0.         0.         0.         0.48481642]\n"
     ]
    }
   ],
   "source": [
    "print(dts.feature_importances_)"
   ]
  },
  {
   "cell_type": "code",
   "execution_count": 25,
   "id": "3de67551",
   "metadata": {},
   "outputs": [
    {
     "name": "stdout",
     "output_type": "stream",
     "text": [
      "range(0, 11)\n"
     ]
    },
    {
     "data": {
      "text/plain": [
       "Text(0.5, 1.0, 'interpretion of variable importance')"
      ]
     },
     "execution_count": 25,
     "metadata": {},
     "output_type": "execute_result"
    },
    {
     "data": {
      "image/png": "[encoded data removed]",
      "text/plain": [
       "<Figure size 432x288 with 1 Axes>"
      ]
     },
     "metadata": {
      "needs_background": "light"
     },
     "output_type": "display_data"
    }
   ],
   "source": [
    "#plot\n",
    "n_ft=train_x.shape[1]\n",
    "print(range(n_ft))\n",
    "plt.barh(range(n_ft),dts.feature_importances_, align='center')\n",
    "plt.yticks(ticks=np.arange(n_ft), labels=train_x.columns)\n",
    "plt.xlabel('Feature Importances')\n",
    "plt.ylabel('Feature Names')\n",
    "plt.title(\"interpretion of variable importance\")"
   ]
  },
  {
   "cell_type": "markdown",
   "id": "3eab5738",
   "metadata": {},
   "source": [
    "Bargraph for Train Score"
   ]
  },
  {
   "cell_type": "code",
   "execution_count": 38,
   "id": "0fb17d7a",
   "metadata": {},
   "outputs": [
    {
     "data": {
      "text/plain": [
       "<Figure size 960x720 with 0 Axes>"
      ]
     },
     "execution_count": 38,
     "metadata": {},
     "output_type": "execute_result"
    },
    {
     "data": {
      "text/plain": [
       "<Figure size 960x720 with 0 Axes>"
      ]
     },
     "metadata": {},
     "output_type": "display_data"
    }
   ],
   "source": [
    "#plotting \n",
    "plt.figure(figsize=(8,6), dpi=120, facecolor='w', edgecolor='b')\n"
   ]
  }
 ],
 "metadata": {
  "kernelspec": {
   "display_name": "Python 3 (ipykernel)",
   "language": "python",
   "name": "python3"
  },
  "language_info": {
   "codemirror_mode": {
    "name": "ipython",
    "version": 3
   },
   "file_extension": ".py",
   "mimetype": "text/x-python",
   "name": "python",
   "nbconvert_exporter": "python",
   "pygments_lexer": "ipython3",
   "version": "3.9.12"
  }
 },
 "nbformat": 4,
 "nbformat_minor": 5
}
